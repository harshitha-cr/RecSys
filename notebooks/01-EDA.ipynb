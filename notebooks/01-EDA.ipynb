{
 "cells": [
  {
   "cell_type": "code",
   "execution_count": 5,
   "id": "24c03914-7b7f-462f-8ca1-9d99c35aaf91",
   "metadata": {},
   "outputs": [
    {
     "name": "stdout",
     "output_type": "stream",
     "text": [
      "C:\\Users\\harsh\\Desktop\\GitHub Repos\\RecSys\n"
     ]
    }
   ],
   "source": [
    "import os\n",
    "print(os.getcwd())\n"
   ]
  },
  {
   "cell_type": "markdown",
   "id": "d64d23b9-b050-4f98-8bf5-0abc45b15cf6",
   "metadata": {},
   "source": [
    "## Loading the reviews file"
   ]
  },
  {
   "cell_type": "code",
   "execution_count": 10,
   "id": "d353e7cb-cce7-40a5-832b-e1720cebfef2",
   "metadata": {},
   "outputs": [
    {
     "name": "stdout",
     "output_type": "stream",
     "text": [
      "Loading reviews (Electronics.csv.gz)...\n",
      "Reviews loaded!\n",
      "<class 'pandas.core.frame.DataFrame'>\n",
      "RangeIndex: 15473536 entries, 0 to 15473535\n",
      "Data columns (total 4 columns):\n",
      " #   Column          Dtype  \n",
      "---  ------          -----  \n",
      " 0   reviewerID      object \n",
      " 1   asin            object \n",
      " 2   overall         float32\n",
      " 3   unixReviewTime  int64  \n",
      "dtypes: float32(1), int64(1), object(2)\n",
      "memory usage: 413.2+ MB\n",
      "None\n",
      "                     reviewerID        asin  overall  unixReviewTime\n",
      "0  AGCI7FAH4GL5FI65HYLKWTMFZ2CQ  B0047T79VS      3.0   1344406083000\n",
      "1  AGCI7FAH4GL5FI65HYLKWTMFZ2CQ  B01HHURN3W      3.0   1408995743000\n",
      "2  AGCI7FAH4GL5FI65HYLKWTMFZ2CQ  B00L0YLRUW      1.0   1439226089000\n",
      "3  AGCI7FAH4GL5FI65HYLKWTMFZ2CQ  B017T99JPG      5.0   1456772365000\n",
      "4  AGCI7FAH4GL5FI65HYLKWTMFZ2CQ  B01LW71IBJ      5.0   1456772571000\n"
     ]
    }
   ],
   "source": [
    "import pandas as pd\n",
    "import numpy as np # We'll use this for a specific type\n",
    "\n",
    "# --- 1. Load the REVIEWS (the .csv.gz file) ---\n",
    "print(\"Loading reviews (Electronics.csv.gz)...\")\n",
    "\n",
    "reviews_df = pd.read_csv(\n",
    "    'data/Electronics.csv.gz', \n",
    "    compression='gzip',\n",
    "    header=None,\n",
    "    skiprows=1,\n",
    "    names=['reviewerID', 'asin', 'overall', 'unixReviewTime'],\n",
    "    \n",
    "    # --- THIS IS THE FIX ---\n",
    "    # We explicitly tell pandas what data type each column is.\n",
    "    dtype={\n",
    "        'reviewerID': 'str', \n",
    "        'asin': 'str', \n",
    "        'overall': 'float32',  # Use float32 to save memory (vs float64)\n",
    "        'unixReviewTime': 'int64'\n",
    "    }\n",
    ")\n",
    "\n",
    "print(\"Reviews loaded!\")\n",
    "print(reviews_df.info()) # .info() is great to check if dtypes are correct\n",
    "print(reviews_df.head())"
   ]
  },
  {
   "cell_type": "markdown",
   "id": "535cec7c-be26-4eb0-8d67-4f3e635559fa",
   "metadata": {},
   "source": [
    "## 1. Find Key Entities (Users and Items)"
   ]
  },
  {
   "cell_type": "code",
   "execution_count": 11,
   "id": "f42c8d7b-afc6-4413-a9f5-f8da59dc7383",
   "metadata": {},
   "outputs": [
    {
     "name": "stdout",
     "output_type": "stream",
     "text": [
      "Total Reviews: 15473536\n",
      "Unique Users:  1641026\n",
      "Unique Items:  368228\n"
     ]
    }
   ],
   "source": [
    "# Get the number of unique users, items, and total reviews\n",
    "num_users = reviews_df['reviewerID'].nunique()\n",
    "num_items = reviews_df['asin'].nunique()\n",
    "num_reviews = len(reviews_df)\n",
    "\n",
    "print(f\"Total Reviews: {num_reviews}\")\n",
    "print(f\"Unique Users:  {num_users}\")\n",
    "print(f\"Unique Items:  {num_items}\")"
   ]
  },
  {
   "cell_type": "markdown",
   "id": "50bf4f37-50cb-40ef-9f0f-239ebc61a8e7",
   "metadata": {},
   "source": [
    "## 2. Calculate Sparsity\n",
    "\n",
    "High percentage: It means the average user has only interacted with a tiny fraction of all available items."
   ]
  },
  {
   "cell_type": "code",
   "execution_count": 12,
   "id": "6c66fc0a-9b31-490c-b148-98abd0d85662",
   "metadata": {},
   "outputs": [
    {
     "name": "stdout",
     "output_type": "stream",
     "text": [
      "Sparsity: 99.9974%\n"
     ]
    }
   ],
   "source": [
    "# Calculate sparsity\n",
    "sparsity = 1.0 - (num_reviews / (num_users * num_items))\n",
    "\n",
    "print(f\"Sparsity: {sparsity * 100:.4f}%\")"
   ]
  },
  {
   "cell_type": "markdown",
   "id": "efa4a534-bc04-4c2b-9bca-281e32e466c0",
   "metadata": {},
   "source": [
    "## 3. Plot the Ratings Distribution\n",
    "\n",
    "This plot will almost certainly be \"J-shaped,\" with a massive number of 5-star reviews. This is important for when we decide what a \"positive\" interaction is (e.g., 4.0 and 5.0 stars)."
   ]
  },
  {
   "cell_type": "code",
   "execution_count": 13,
   "id": "0c497613-ae73-46b2-ab56-5c0c3c7e0590",
   "metadata": {},
   "outputs": [
    {
     "name": "stdout",
     "output_type": "stream",
     "text": [
      "\n",
      "Plotting ratings distribution...\n"
     ]
    },
    {
     "data": {
      "image/png": "[encoded data removed]",
      "text/plain": [
       "<Figure size 700x400 with 1 Axes>"
      ]
     },
     "metadata": {},
     "output_type": "display_data"
    }
   ],
   "source": [
    "import matplotlib.pyplot as plt\n",
    "\n",
    "print(\"\\nPlotting ratings distribution...\")\n",
    "\n",
    "# Set a nice style for the plot\n",
    "plt.style.use('ggplot')\n",
    "\n",
    "reviews_df['overall'].value_counts().sort_index().plot(\n",
    "    kind='bar',\n",
    "    title='Distribution of Ratings',\n",
    "    xlabel='Rating',\n",
    "    ylabel='Number of Reviews',\n",
    "    figsize=(7, 4)\n",
    ")\n",
    "plt.xticks(rotation=0) # Keep x-axis labels horizontal\n",
    "plt.show()"
   ]
  },
  {
   "cell_type": "markdown",
   "id": "72769a9d-dc3d-49b3-98cc-a1c5e9d20317",
   "metadata": {},
   "source": [
    "What Our EDA Results Mean\n",
    "* Counts (1.64M Users, 368.2K Items): This is excellent. The numbers align perfectly with the \"5-core\" dataset page. It's a large, meaningful dataset that's still manageable for a college project.\n",
    "\n",
    "* Sparsity (99.9974%): This is the single most important number you've calculated. It's the central challenge of our project. It means that out of all possible user-item pairs, we only have data for 0.0026% of them.\n",
    "\n",
    "This is why simple approaches fail. We can't just \"look up\" what a user thinks of an item, because they haven't rated 99.9974% of them.\n",
    "<br>\n",
    "Our goal is to predict preferences within this massive-but-empty space. This is why we need advanced models like Matrix Factorization and the Two-Tower hybrid, which can generalize from the tiny bit of data we do have.\n",
    "\n",
    "* Rating Distribution (The J-Shaped Plot): Your plot is the classic \"J-shape\" of e-commerce reviews. The vast majority of ratings are 5-star. This confirms our plan for Phase 2: we will define a \"positive\" interaction as any rating overall >= 4.0, which is the industry-standard approach for a ranking model."
   ]
  },
  {
   "cell_type": "markdown",
   "id": "63d0d8b5-7256-40f9-b66b-5df8a5f2456d",
   "metadata": {},
   "source": [
    ".jsonl stands for JSON Lines.\n",
    "\n",
    "This means each line in the file is its own, separate JSON object (like a dictionary).\n",
    "\n",
    "Our parse function, which reads the file line by line (for l in g:) and loads each line as a JSON object (yield json.loads(l)), is specifically designed for the JSON Lines format."
   ]
  },
  {
   "cell_type": "code",
   "execution_count": null,
   "id": "61f14430-c77d-4dfc-9b92-747d06a7c457",
   "metadata": {},
   "outputs": [
    {
     "name": "stdout",
     "output_type": "stream",
     "text": [
      "\n",
      "Loading metadata (meta_Electronics.json.gz)...\n"
     ]
    },
    {
     "ename": "KeyboardInterrupt",
     "evalue": "",
     "output_type": "error",
     "traceback": [
      "\u001b[31m---------------------------------------------------------------------------\u001b[39m",
      "\u001b[31mKeyboardInterrupt\u001b[39m                         Traceback (most recent call last)",
      "\u001b[32m~\\AppData\\Local\\Temp\\ipykernel_2700\\3501344388.py\u001b[39m in \u001b[36m?\u001b[39m\u001b[34m()\u001b[39m\n\u001b[32m     21\u001b[39m     meta_df = getDF(\u001b[33m'data/meta_Electronics.jsonl.gz'\u001b[39m)\n\u001b[32m     22\u001b[39m     print(\u001b[33m\"Metadata loaded!\"\u001b[39m)\n\u001b[32m     23\u001b[39m     print(meta_df.info())\n\u001b[32m     24\u001b[39m     print(meta_df.head())\n\u001b[32m---> \u001b[39m\u001b[32m25\u001b[39m \u001b[38;5;28;01mexcept\u001b[39;00m FileNotFoundError:\n\u001b[32m     26\u001b[39m     print(\u001b[33m\"---\"\u001b[39m)\n\u001b[32m     27\u001b[39m     print(\u001b[33m\"ERROR: meta_Electronics.json.gz not found.\"\u001b[39m)\n\u001b[32m     28\u001b[39m     print(\u001b[33m\"Please go back to the main UCSD page and download meta_Electronics.json.gz\"\u001b[39m)\n",
      "\u001b[32m~\\AppData\\Local\\Temp\\ipykernel_2700\\3501344388.py\u001b[39m in \u001b[36m?\u001b[39m\u001b[34m(path)\u001b[39m\n\u001b[32m     12\u001b[39m     df_dict = {}\n\u001b[32m     13\u001b[39m     \u001b[38;5;28;01mfor\u001b[39;00m d \u001b[38;5;28;01min\u001b[39;00m parse(path):\n\u001b[32m     14\u001b[39m         df_dict[i] = d\n\u001b[32m     15\u001b[39m         i += \u001b[32m1\u001b[39m\n\u001b[32m---> \u001b[39m\u001b[32m16\u001b[39m     \u001b[38;5;28;01mreturn\u001b[39;00m pd.DataFrame.from_dict(df_dict, orient=\u001b[33m'index'\u001b[39m)\n",
      "\u001b[32m~\\Desktop\\Python\\sign-lang\\venv\\Lib\\site-packages\\pandas\\core\\frame.py\u001b[39m in \u001b[36m?\u001b[39m\u001b[34m(cls, data, orient, dtype, columns)\u001b[39m\n\u001b[32m   1902\u001b[39m         \u001b[38;5;28;01mif\u001b[39;00m orient == \u001b[33m\"index\"\u001b[39m:\n\u001b[32m   1903\u001b[39m             \u001b[38;5;28;01mif\u001b[39;00m len(data) > \u001b[32m0\u001b[39m:\n\u001b[32m   1904\u001b[39m                 \u001b[38;5;66;03m# TODO speed up Series case\u001b[39;00m\n\u001b[32m   1905\u001b[39m                 \u001b[38;5;28;01mif\u001b[39;00m isinstance(next(iter(data.values())), (Series, dict)):\n\u001b[32m-> \u001b[39m\u001b[32m1906\u001b[39m                     data = _from_nested_dict(data)\n\u001b[32m   1907\u001b[39m                 \u001b[38;5;28;01melse\u001b[39;00m:\n\u001b[32m   1908\u001b[39m                     index = list(data.keys())\n\u001b[32m   1909\u001b[39m                     \u001b[38;5;66;03m# error: Incompatible types in assignment (expression has type\u001b[39;00m\n",
      "\u001b[32m~\\Desktop\\Python\\sign-lang\\venv\\Lib\\site-packages\\pandas\\core\\frame.py\u001b[39m in \u001b[36m?\u001b[39m\u001b[34m(data)\u001b[39m\n\u001b[32m  12674\u001b[39m \u001b[38;5;28;01mdef\u001b[39;00m _from_nested_dict(data) -> collections.defaultdict:\n\u001b[32m  12675\u001b[39m     new_data: collections.defaultdict = collections.defaultdict(dict)\n\u001b[32m  12676\u001b[39m     \u001b[38;5;28;01mfor\u001b[39;00m index, s \u001b[38;5;28;01min\u001b[39;00m data.items():\n\u001b[32m  12677\u001b[39m         \u001b[38;5;28;01mfor\u001b[39;00m col, v \u001b[38;5;28;01min\u001b[39;00m s.items():\n\u001b[32m> \u001b[39m\u001b[32m12678\u001b[39m             new_data[col][index] = v\n\u001b[32m  12679\u001b[39m     \u001b[38;5;28;01mreturn\u001b[39;00m new_data\n",
      "\u001b[31mKeyboardInterrupt\u001b[39m: "
     ]
    }
   ],
   "source": [
    "# waayyy toooo large taking more timmeee\n",
    "# dont run until optimiseddddd\n",
    "\n",
    "# --- 2. Load the METADATA (the .json.gz file) ---\n",
    "# We STILL need this for our hybrid model\n",
    "# This file needs the helper functions from before\n",
    "\n",
    "def parse(path):\n",
    "    g = gzip.open(path, 'r')\n",
    "    for l in g:\n",
    "        yield json.loads(l)\n",
    "\n",
    "def getDF(path):\n",
    "    i = 0\n",
    "    df_dict = {}\n",
    "    for d in parse(path):\n",
    "        df_dict[i] = d\n",
    "        i += 1\n",
    "    return pd.DataFrame.from_dict(df_dict, orient='index')\n",
    "\n",
    "# --- 1. Load the METADATA (meta_Electronics.json.gz) ---\n",
    "print(\"\\nLoading metadata (meta_Electronics.json.gz)...\")\n",
    "try:\n",
    "    meta_df = getDF('data/meta_Electronics.jsonl.gz')\n",
    "    print(\"Metadata loaded!\")\n",
    "    print(meta_df.info())\n",
    "    print(meta_df.head())\n",
    "except FileNotFoundError:\n",
    "    print(\"---\")\n",
    "    print(\"ERROR: meta_Electronics.json.gz not found.\")\n",
    "    print(\"Please go back to the main UCSD page and download meta_Electronics.json.gz\")\n",
    "    print(\"We need this for our hybrid model's content features!\")"
   ]
  },
  {
   "cell_type": "code",
   "execution_count": null,
   "id": "80795ec0-b74c-4a17-81af-9cc6adbbd92f",
   "metadata": {},
   "outputs": [],
   "source": [
    "# dont run until optimiseddd\n",
    "\n",
    "# --- 2. Merge Reviews and Metadata ---\n",
    "# We will do an 'inner' merge on 'asin'. This keeps only the\n",
    "# items that are present in BOTH DataFrames.\n",
    "\n",
    "print(\"\\nMerging reviews_df and meta_df...\")\n",
    "# We only select a few useful columns from meta_df to merge\n",
    "# to keep our DataFrame small and efficient.\n",
    "meta_df_small = meta_df[['asin', 'title', 'brand', 'category']]\n",
    "\n",
    "# Merge!\n",
    "merged_df = pd.merge(reviews_df, meta_df_small, on='asin', how='inner')\n",
    "\n",
    "print(\"Merge complete!\")\n",
    "print(merged_df.info())\n",
    "print(merged_df.head())"
   ]
  }
 ],
 "metadata": {
  "kernelspec": {
   "display_name": "venv",
   "language": "python",
   "name": "venv"
  },
  "language_info": {
   "codemirror_mode": {
    "name": "ipython",
    "version": 3
   },
   "file_extension": ".py",
   "mimetype": "text/x-python",
   "name": "python",
   "nbconvert_exporter": "python",
   "pygments_lexer": "ipython3",
   "version": "3.11.9"
  }
 },
 "nbformat": 4,
 "nbformat_minor": 5
}
