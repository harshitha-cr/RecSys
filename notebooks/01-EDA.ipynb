{
 "cells": [
  {
   "cell_type": "code",
   "execution_count": 18,
   "id": "24c03914-7b7f-462f-8ca1-9d99c35aaf91",
   "metadata": {},
   "outputs": [
    {
     "name": "stdout",
     "output_type": "stream",
     "text": [
      "C:\\Users\\harsh\\Desktop\\GitHub Repos\\RecSys\\notebooks\n"
     ]
    }
   ],
   "source": [
    "import os\n",
    "print(os.getcwd())\n"
   ]
  },
  {
   "cell_type": "markdown",
   "id": "f9acef93-c34b-4668-8ba1-a07c25540ed5",
   "metadata": {
    "jp-MarkdownHeadingCollapsed": true
   },
   "source": [
    "# Phase 1 (Data Acquisition and Initial EDA)\n"
   ]
  },
  {
   "cell_type": "markdown",
   "id": "d64d23b9-b050-4f98-8bf5-0abc45b15cf6",
   "metadata": {},
   "source": [
    "# Loading the reviews file"
   ]
  },
  {
   "cell_type": "code",
   "execution_count": 19,
   "id": "726c4447-cb5a-42e1-8f8e-efd30122f808",
   "metadata": {},
   "outputs": [],
   "source": [
    "import pandas as pd\n",
    "import numpy as np\n",
    "import gzip\n",
    "import json"
   ]
  },
  {
   "cell_type": "code",
   "execution_count": 20,
   "id": "d353e7cb-cce7-40a5-832b-e1720cebfef2",
   "metadata": {},
   "outputs": [
    {
     "name": "stdout",
     "output_type": "stream",
     "text": [
      "Loading reviews (Electronics.csv.gz)...\n",
      "Reviews loaded!\n",
      "<class 'pandas.core.frame.DataFrame'>\n",
      "RangeIndex: 15473536 entries, 0 to 15473535\n",
      "Data columns (total 4 columns):\n",
      " #   Column          Dtype  \n",
      "---  ------          -----  \n",
      " 0   reviewerID      object \n",
      " 1   asin            object \n",
      " 2   overall         float32\n",
      " 3   unixReviewTime  int64  \n",
      "dtypes: float32(1), int64(1), object(2)\n",
      "memory usage: 413.2+ MB\n",
      "None\n",
      "                     reviewerID        asin  overall  unixReviewTime\n",
      "0  AGCI7FAH4GL5FI65HYLKWTMFZ2CQ  B0047T79VS      3.0   1344406083000\n",
      "1  AGCI7FAH4GL5FI65HYLKWTMFZ2CQ  B01HHURN3W      3.0   1408995743000\n",
      "2  AGCI7FAH4GL5FI65HYLKWTMFZ2CQ  B00L0YLRUW      1.0   1439226089000\n",
      "3  AGCI7FAH4GL5FI65HYLKWTMFZ2CQ  B017T99JPG      5.0   1456772365000\n",
      "4  AGCI7FAH4GL5FI65HYLKWTMFZ2CQ  B01LW71IBJ      5.0   1456772571000\n"
     ]
    }
   ],
   "source": [
    "\n",
    "# --- 1. Load the REVIEWS (the .csv.gz file) ---\n",
    "print(\"Loading reviews (Electronics.csv.gz)...\")\n",
    "\n",
    "reviews_df = pd.read_csv(\n",
    "    '../data/Electronics.csv.gz', \n",
    "    compression='gzip',\n",
    "    header=None,\n",
    "    skiprows=1,\n",
    "    names=['reviewerID', 'asin', 'overall', 'unixReviewTime'],\n",
    "    dtype={\n",
    "        'reviewerID': 'str', \n",
    "        'asin': 'str', \n",
    "        'overall': 'float32',  # Use float32 to save memory (vs float64)\n",
    "        'unixReviewTime': 'int64'\n",
    "    }\n",
    ")\n",
    "\n",
    "print(\"Reviews loaded!\")\n",
    "print(reviews_df.info())\n",
    "print(reviews_df.head())"
   ]
  },
  {
   "cell_type": "markdown",
   "id": "535cec7c-be26-4eb0-8d67-4f3e635559fa",
   "metadata": {},
   "source": [
    "## 1. Find Key Entities (Users and Items)"
   ]
  },
  {
   "cell_type": "code",
   "execution_count": 21,
   "id": "f42c8d7b-afc6-4413-a9f5-f8da59dc7383",
   "metadata": {},
   "outputs": [
    {
     "name": "stdout",
     "output_type": "stream",
     "text": [
      "Total Reviews: 15473536\n",
      "Unique Users:  1641026\n",
      "Unique Items:  368228\n"
     ]
    }
   ],
   "source": [
    "# Get the number of unique users, items, and total reviews\n",
    "num_users = reviews_df['reviewerID'].nunique()\n",
    "num_items = reviews_df['asin'].nunique()\n",
    "num_reviews = len(reviews_df)\n",
    "\n",
    "print(f\"Total Reviews: {num_reviews}\")\n",
    "print(f\"Unique Users:  {num_users}\")\n",
    "print(f\"Unique Items:  {num_items}\")"
   ]
  },
  {
   "cell_type": "markdown",
   "id": "50bf4f37-50cb-40ef-9f0f-239ebc61a8e7",
   "metadata": {},
   "source": [
    "## 2. Calculate Sparsity\n",
    "\n",
    "High percentage: It means the average user has only interacted with a tiny fraction of all available items."
   ]
  },
  {
   "cell_type": "code",
   "execution_count": 22,
   "id": "6c66fc0a-9b31-490c-b148-98abd0d85662",
   "metadata": {},
   "outputs": [
    {
     "name": "stdout",
     "output_type": "stream",
     "text": [
      "Sparsity: 99.9974%\n"
     ]
    }
   ],
   "source": [
    "# Calculate sparsity\n",
    "sparsity = 1.0 - (num_reviews / (num_users * num_items))\n",
    "\n",
    "print(f\"Sparsity: {sparsity * 100:.4f}%\")"
   ]
  },
  {
   "cell_type": "markdown",
   "id": "efa4a534-bc04-4c2b-9bca-281e32e466c0",
   "metadata": {},
   "source": [
    "## 3. Plot the Ratings Distribution\n",
    "\n",
    "This plot will almost certainly be \"J-shaped,\" with a massive number of 5-star reviews. This is important for when we decide what a \"positive\" interaction is (e.g., 4.0 and 5.0 stars)."
   ]
  },
  {
   "cell_type": "code",
   "execution_count": 23,
   "id": "0c497613-ae73-46b2-ab56-5c0c3c7e0590",
   "metadata": {},
   "outputs": [
    {
     "name": "stdout",
     "output_type": "stream",
     "text": [
      "\n",
      "Plotting ratings distribution...\n"
     ]
    },
    {
     "data": {
      "image/png": "[encoded data removed]",
      "text/plain": [
       "<Figure size 700x400 with 1 Axes>"
      ]
     },
     "metadata": {},
     "output_type": "display_data"
    }
   ],
   "source": [
    "import matplotlib.pyplot as plt\n",
    "\n",
    "print(\"\\nPlotting ratings distribution...\")\n",
    "\n",
    "# Set a nice style for the plot\n",
    "plt.style.use('ggplot')\n",
    "\n",
    "reviews_df['overall'].value_counts().sort_index().plot(\n",
    "    kind='bar',\n",
    "    title='Distribution of Ratings',\n",
    "    xlabel='Rating',\n",
    "    ylabel='Number of Reviews',\n",
    "    figsize=(7, 4)\n",
    ")\n",
    "plt.xticks(rotation=0) # Keep x-axis labels horizontal\n",
    "plt.show()"
   ]
  },
  {
   "cell_type": "markdown",
   "id": "72769a9d-dc3d-49b3-98cc-a1c5e9d20317",
   "metadata": {},
   "source": [
    "What Our EDA Results Mean\n",
    "* Counts (1.64M Users, 368.2K Items): This is excellent. The numbers align perfectly with the \"5-core\" dataset page. It's a large, meaningful dataset that's still manageable for a college project.\n",
    "\n",
    "* Sparsity (99.9974%): This is the single most important number you've calculated. It's the central challenge of our project. It means that out of all possible user-item pairs, we only have data for 0.0026% of them.\n",
    "\n",
    "This is why simple approaches fail. We can't just \"look up\" what a user thinks of an item, because they haven't rated 99.9974% of them.\n",
    "<br>\n",
    "Our goal is to predict preferences within this massive-but-empty space. This is why we need advanced models like Matrix Factorization and the Two-Tower hybrid, which can generalize from the tiny bit of data we do have.\n",
    "\n",
    "* Rating Distribution (The J-Shaped Plot): Your plot is the classic \"J-shape\" of e-commerce reviews. The vast majority of ratings are 5-star. This confirms our plan for Phase 2: we will define a \"positive\" interaction as any rating overall >= 4.0, which is the industry-standard approach for a ranking model."
   ]
  },
  {
   "cell_type": "markdown",
   "id": "63d0d8b5-7256-40f9-b66b-5df8a5f2456d",
   "metadata": {},
   "source": [
    ".jsonl stands for JSON Lines.\n",
    "\n",
    "This means each line in the file is its own, separate JSON object (like a dictionary).\n",
    "\n",
    "Our parse function, which reads the file line by line (for l in g:) and loads each line as a JSON object (yield json.loads(l)), is specifically designed for the JSON Lines format."
   ]
  },
  {
   "cell_type": "markdown",
   "id": "2e0569f2-867b-4865-857a-b93bfad0f261",
   "metadata": {},
   "source": [
    "# Working on meta_Electronics.jsonl.gz"
   ]
  },
  {
   "cell_type": "markdown",
   "id": "6bc26ee1-86e0-4ab7-b132-9acda0e5c986",
   "metadata": {},
   "source": [
    "\n",
    "* Creating a `meta_df_full` DataFrame that will consists of only 368228 item details. These are the unique asin ids that are present in reviews_df.\n",
    "\n",
    "* Then filtering only the columns that are required: title, asin, brand, categories and storing them as `meta_df_small` DataFrame.\n",
    "\n",
    "* Merging reviews_df and meta_df_small on asin, which gives us `merged_df`, a 15.5M rows DataFrame.\n",
    "\n",
    "* Creating a sample from merged_df with 2M rows -> `sampled_df`"
   ]
  },
  {
   "cell_type": "code",
   "execution_count": 24,
   "id": "80b350d2-33ef-472b-909a-c44fa5b02045",
   "metadata": {},
   "outputs": [
    {
     "name": "stdout",
     "output_type": "stream",
     "text": [
      "Success! Here are the keys in the first metadata item:\n",
      "dict_keys(['main_category', 'title', 'average_rating', 'rating_number', 'features', 'description', 'price', 'images', 'videos', 'store', 'categories', 'details', 'parent_asin', 'bought_together'])\n"
     ]
    }
   ],
   "source": [
    "# --- peek at the first line of the metadata file ---\n",
    "try:\n",
    "    with gzip.open('../data/meta_Electronics.jsonl.gz', 'r') as f:\n",
    "        # Read just the first line\n",
    "        first_line = f.readline()\n",
    "        \n",
    "        # Convert that line from JSON text to a Python dictionary\n",
    "        first_item = json.loads(first_line)\n",
    "        \n",
    "        print(\"Success! Here are the keys in the first metadata item:\")\n",
    "        print(first_item.keys())\n",
    "\n",
    "except Exception as e:\n",
    "    print(f\"An error occurred while reading the file: {e}\")"
   ]
  },
  {
   "cell_type": "code",
   "execution_count": 25,
   "id": "363aa051-7f49-4c0c-9f0b-361cece9a7e3",
   "metadata": {},
   "outputs": [
    {
     "name": "stdout",
     "output_type": "stream",
     "text": [
      "Creating set of unique ASINs from reviews_df...\n",
      "We have 368228 unique items to find.\n",
      "\n",
      "Loading metadata...\n",
      "Parsing and filtering metadata (limit=None)...\n",
      "Found 368228 matching items.\n"
     ]
    }
   ],
   "source": [
    "# -------------------- Creating meta_df_full-----------------------------\n",
    "\n",
    "# --- Helper functions (parse is the same) ---\n",
    "def parse(path):\n",
    "  g = gzip.open(path, 'r')\n",
    "  for l in g:\n",
    "    yield json.loads(l)\n",
    "\n",
    "# --- NEW Optimized & Testable Loading Function ---\n",
    "def get_filtered_DF(path, asin_set, limit=None):\n",
    "    \"\"\"\n",
    "    Loads data from the path, BUT only keeps rows \n",
    "    where the 'parent_asin' is in our asin_set.\n",
    "    \n",
    "    Stops early if a 'limit' is set.\n",
    "    \"\"\"\n",
    "    i = 0\n",
    "    df_dict = {}\n",
    "    print(f\"Parsing and filtering metadata (limit={limit})...\")\n",
    "    \n",
    "    for d in parse(path):\n",
    "        # --- THE BUG FIX IS HERE ---\n",
    "        # We are checking 'parent_asin' now\n",
    "        if d.get('parent_asin') in asin_set:\n",
    "            df_dict[i] = d\n",
    "            i += 1\n",
    "        \n",
    "        # --- THE TEST LOGIC IS HERE ---\n",
    "        if limit and i >= limit:\n",
    "            print(f\"Reached test limit of {limit} items.\")\n",
    "            break\n",
    "            \n",
    "    print(f\"Found {i} matching items.\")\n",
    "    return pd.DataFrame.from_dict(df_dict, orient='index')\n",
    "\n",
    "# --- Main Script ---\n",
    "\n",
    "# 1. Get the set of unique item IDs from our reviews_df\n",
    "print(\"Creating set of unique ASINs from reviews_df...\")\n",
    "unique_asins_in_reviews = set(reviews_df['asin'].unique())\n",
    "print(f\"We have {len(unique_asins_in_reviews)} unique items to find.\")\n",
    "\n",
    "\n",
    "# 2. Load METADATA\n",
    "print(\"\\nLoading metadata...\")\n",
    "meta_df_full = get_filtered_DF(\n",
    "    '../data/meta_Electronics.jsonl.gz', \n",
    "    unique_asins_in_reviews,\n",
    "    limit=None \n",
    ")"
   ]
  },
  {
   "cell_type": "code",
   "execution_count": 26,
   "id": "51e280b5-09ad-4c20-a13c-cad26acd9b97",
   "metadata": {},
   "outputs": [
    {
     "name": "stdout",
     "output_type": "stream",
     "text": [
      "\n",
      "Successfully loaded 368228 metadata items.\n",
      "Renaming columns 'parent_asin' -> 'asin' and 'store' -> 'brand'...\n",
      "Merging all 15.5M reviews with our clean metadata...\n",
      "--- Full Merge Complete! ---\n",
      "<class 'pandas.core.frame.DataFrame'>\n",
      "RangeIndex: 15473536 entries, 0 to 15473535\n",
      "Data columns (total 7 columns):\n",
      " #   Column          Dtype  \n",
      "---  ------          -----  \n",
      " 0   reviewerID      object \n",
      " 1   asin            object \n",
      " 2   overall         float32\n",
      " 3   unixReviewTime  int64  \n",
      " 4   title           object \n",
      " 5   brand           object \n",
      " 6   categories      object \n",
      "dtypes: float32(1), int64(1), object(5)\n",
      "memory usage: 767.3+ MB\n",
      "None\n"
     ]
    }
   ],
   "source": [
    "#--------------------------Creating merged_df---------------------------------------\n",
    "\n",
    "# --- 3. Process Metadata and Merge FULL DataFrames ---\n",
    "print(f\"\\nSuccessfully loaded {len(meta_df_full)} metadata items.\")\n",
    "print(\"Renaming columns 'parent_asin' -> 'asin' and 'store' -> 'brand'...\")\n",
    "meta_df_full = meta_df_full.rename(columns={\n",
    "    'parent_asin': 'asin',\n",
    "    'store': 'brand'\n",
    "})\n",
    "    \n",
    "# Select ONLY the 4 columns\n",
    "meta_df_small = meta_df_full[['asin', 'title', 'brand', 'categories']]\n",
    "    \n",
    "print(\"Merging all 15.5M reviews with our clean metadata...\")\n",
    "merged_df = pd.merge(reviews_df, meta_df_small, on='asin', how='inner')\n",
    "    \n",
    "print(\"--- Full Merge Complete! ---\")\n",
    "print(merged_df.info())\n",
    "\n",
    "    \n"
   ]
  },
  {
   "cell_type": "code",
   "execution_count": 27,
   "id": "c05f5db3-c153-4db7-b272-a467157377b3",
   "metadata": {},
   "outputs": [
    {
     "name": "stdout",
     "output_type": "stream",
     "text": [
      "\n",
      "Creating a 2,000,000 row sample for fast prototyping...\n",
      "--- Sampled DataFrame Info ---\n",
      "<class 'pandas.core.frame.DataFrame'>\n",
      "Index: 2000000 entries, 9225261 to 11842977\n",
      "Data columns (total 7 columns):\n",
      " #   Column          Dtype  \n",
      "---  ------          -----  \n",
      " 0   reviewerID      object \n",
      " 1   asin            object \n",
      " 2   overall         float32\n",
      " 3   unixReviewTime  int64  \n",
      " 4   title           object \n",
      " 5   brand           object \n",
      " 6   categories      object \n",
      "dtypes: float32(1), int64(1), object(5)\n",
      "memory usage: 114.4+ MB\n",
      "None\n"
     ]
    }
   ],
   "source": [
    "#----------------------Creating sampled_df--------------------------------------\n",
    "\n",
    "# --- 4. Create our 2M row sample ---\n",
    "print(\"\\nCreating a 2,000,000 row sample for fast prototyping...\")\n",
    "sample_df = merged_df.sample(n=2_000_000, random_state=42)\n",
    "    \n",
    "print(\"--- Sampled DataFrame Info ---\")\n",
    "print(sample_df.info())"
   ]
  },
  {
   "cell_type": "code",
   "execution_count": 28,
   "id": "b6fcd0c9-740c-42d4-8ee3-0bc43d14c5ee",
   "metadata": {},
   "outputs": [
    {
     "name": "stdout",
     "output_type": "stream",
     "text": [
      "\n",
      "Saving sample to '../data/electronics_sample_2M.parquet'...\n",
      "Successfully saved sample! We can load this file directly next time.\n"
     ]
    }
   ],
   "source": [
    "# --- 5. SAVE THE SAMPLE ---\n",
    "print(\"\\nSaving sample to '../data/electronics_sample_2M.parquet'...\")\n",
    "try:\n",
    "    sample_df.to_parquet('../data/electronics_sample_2M.parquet', index=False)\n",
    "    print(\"Successfully saved sample! We can load this file directly next time.\")\n",
    "except ImportError:\n",
    "    print(\"Saving as compressed CSV as a fallback...\")\n",
    "    sample_df.to_csv('../data/electronics_sample_2M.csv.gz', index=False, compression='gzip')\n",
    "    print(\"Fallback save complete.\")"
   ]
  },
  {
   "cell_type": "markdown",
   "id": "2d4a0114-2c40-4b28-babe-11d22aba8ecd",
   "metadata": {},
   "source": [
    "### Trying out stuff"
   ]
  },
  {
   "cell_type": "markdown",
   "id": "ea398998-99f5-46b6-9704-610058d5e8bd",
   "metadata": {},
   "source": [
    "What do i have here which should be saved to avoid re-run:\n",
    "1. renamed reviwe_df\n",
    "2. meta_df_small\n",
    "3. merged_df\n",
    "4. sample_df"
   ]
  },
  {
   "cell_type": "code",
   "execution_count": 29,
   "id": "377abb6e-0102-41a2-95c9-2a7d471d4570",
   "metadata": {},
   "outputs": [
    {
     "name": "stdout",
     "output_type": "stream",
     "text": [
      "C:\\Users\\harsh\\Desktop\\GitHub Repos\\RecSys\\venv\\Scripts\\python.exe\n"
     ]
    }
   ],
   "source": [
    "import sys\n",
    "print(sys.executable)\n"
   ]
  },
  {
   "cell_type": "code",
   "execution_count": 30,
   "id": "f926aa88-41ae-4294-a9a8-8d36eaf87b7a",
   "metadata": {},
   "outputs": [
    {
     "name": "stdout",
     "output_type": "stream",
     "text": [
      "PyArrow version: 22.0.0\n"
     ]
    }
   ],
   "source": [
    "import pyarrow as pa\n",
    "print(f\"PyArrow version: {pa.__version__}\")"
   ]
  }
 ],
 "metadata": {
  "kernelspec": {
   "display_name": "Python (RecSys)",
   "language": "python",
   "name": "venv-recsys"
  },
  "language_info": {
   "codemirror_mode": {
    "name": "ipython",
    "version": 3
   },
   "file_extension": ".py",
   "mimetype": "text/x-python",
   "name": "python",
   "nbconvert_exporter": "python",
   "pygments_lexer": "ipython3",
   "version": "3.11.9"
  }
 },
 "nbformat": 4,
 "nbformat_minor": 5
}
